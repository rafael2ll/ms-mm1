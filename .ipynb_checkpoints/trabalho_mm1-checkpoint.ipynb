{
 "cells": [
  {
   "cell_type": "markdown",
   "metadata": {
    "colab_type": "text",
    "id": "view-in-github"
   },
   "source": [
    "<a href=\"https://colab.research.google.com/github/rafael2ll/ms-mm1/blob/master/trabalho_mm1.ipynb\" target=\"_parent\"><img src=\"https://colab.research.google.com/assets/colab-badge.svg\" alt=\"Open In Colab\"/></a>"
   ]
  },
  {
   "cell_type": "code",
   "execution_count": 41,
   "metadata": {
    "colab": {},
    "colab_type": "code",
    "id": "mev88fwIqeri"
   },
   "outputs": [],
   "source": [
    "import numpy as np\n",
    "import pandas as pd\n",
    "import matplotlib.pyplot as plt\n",
    "from enum import Enum"
   ]
  },
  {
   "cell_type": "code",
   "execution_count": 42,
   "metadata": {
    "colab": {},
    "colab_type": "code",
    "id": "m8TSlNF8qyv7"
   },
   "outputs": [],
   "source": [
    "class Distribuicoes(Enum):\n",
    "    NORMAL = {'name': 'Normal', 'func': np.random.normal}\n",
    "    EXPONENCIAL= {'name': 'Exponencial', 'func': np.random.exponential}\n",
    "    POISSON = {'name': 'Poisson', 'func': np.random.poisson}\n",
    "    BINOMIAL = {'name': 'Binomial', 'func': np.random.binomial}"
   ]
  },
  {
   "cell_type": "code",
   "execution_count": 43,
   "metadata": {
    "colab": {},
    "colab_type": "code",
    "id": "I8QoqVgjRVYW"
   },
   "outputs": [],
   "source": [
    "class Variaveis:\n",
    "    def __init___(self):\n",
    "        self.tec_funcao = lambda:  1\n",
    "        self.tes_funcao = lambda:  1\n",
    "    \n",
    "    def set_tec(self, f):\n",
    "        \"\"\"\n",
    "            params: \n",
    "                f: (func) função de aridade 0 de retorno inteiro\n",
    "        \"\"\"\n",
    "        self.tec_funcao = f\n",
    "        \n",
    "    def get_tec(self):\n",
    "        return self.tec_funcao()\n",
    "    \n",
    "    def set_tes(self, f):\n",
    "        \"\"\"\n",
    "            params:\n",
    "                f: (func) função de aridade 0 de retorno inteiro\n",
    "        \"\"\"\n",
    "        self.tes_funcao = f\n",
    "        \n",
    "    def get_tes(self):\n",
    "        return  self.tes_funcao()"
   ]
  },
  {
   "cell_type": "code",
   "execution_count": 44,
   "metadata": {
    "colab": {},
    "colab_type": "code",
    "id": "rvsyOkGxRbC5"
   },
   "outputs": [],
   "source": [
    "class Simulacao:\n",
    "    def __init__(self, variaveis = Variaveis(), tempo_limite=-1, clientes=-1):\n",
    "        self.variaveis = variaveis\n",
    "        self.simulacao = list()\n",
    "        self.tempo_limite = tempo_limite\n",
    "        self.numero_clientes = clientes\n",
    "    \n",
    "    def simular_tudo(self):\n",
    "        self.simulacao = []\n",
    "        if self.numero_clientes > 0:\n",
    "            for i in range(self.numero_clientes):\n",
    "                self.simular()\n",
    "        elif self.tempo_limite > 0:\n",
    "            tempo_relogio = 0\n",
    "            while tempo_relogio < self.tempo_limite:\n",
    "                self.simular()\n",
    "                tempo_relogio = self.simulacao[-1][\"tempo_final_servico_relogio\"]\n",
    "    def simular(self):\n",
    "        if len(self.simulacao) == 0:\n",
    "            cliente = 1\n",
    "            tec = abs(self.variaveis.tec_funcao()*10)\n",
    "            tempo_chegada_relogio = tec\n",
    "            tes = abs(self.variaveis.tes_funcao()*10)\n",
    "            tempo_inicio_servico_relogio = tec\n",
    "            tempo_fila = 0\n",
    "            tempo_final_servico_relogio= tec+tes\n",
    "            tempo_cliente_sistema = tes\n",
    "            tempo_livre_operador = tec\n",
    "        else:\n",
    "            cliente = self.simulacao[-1]['cliente']+1   \n",
    "            tec = abs(self.variaveis.tec_funcao()*10)\n",
    "            tempo_chegada_relogio =  self.simulacao[-1]['tempo_chegada_relogio'] +tec\n",
    "            tes = abs(self.variaveis.tes_funcao()*100)\n",
    "            tempo_inicio_servico_relogio = max([tempo_chegada_relogio, self.simulacao[-1]['tempo_final_servico_relogio']])\n",
    "            tempo_fila = max([0,  self.simulacao[-1]['tempo_final_servico_relogio'] - tempo_chegada_relogio])\n",
    "            tempo_final_servico_relogio= tempo_chegada_relogio+tempo_fila+tes\n",
    "            tempo_cliente_sistema = tempo_fila + tes\n",
    "            tempo_livre_operador = max([0, tempo_chegada_relogio -self.simulacao[-1]['tempo_final_servico_relogio']])\n",
    "        \n",
    "        iteracao ={\n",
    "                'cliente': cliente, \n",
    "                'tec': tec,\n",
    "                'tempo_chegada_relogio': tempo_chegada_relogio,\n",
    "                'tes': tes,\n",
    "                'tempo_inicio_servico_relogio': tempo_inicio_servico_relogio,\n",
    "                'tempo_fila': tempo_fila,\n",
    "                'tempo_final_servico_relogio': tempo_final_servico_relogio,\n",
    "                'tempo_cliente_sistema': tempo_cliente_sistema,\n",
    "                'tempo_livre_operador': tempo_livre_operador\n",
    "                }\n",
    "        self.simulacao.append(iteracao)\n",
    "        \n",
    "    def get_tabela(self):\n",
    "          return pd.DataFrame(self.simulacao, columns=['cliente', 'tec', 'tempo_chegada_relogio', 'tes', 'tempo_inicio_servico_relogio', 'tempo_fila', 'tempo_final_servico_relogio', 'tempo_cliente_sistema', 'tempo_livre_operador'])"
   ]
  },
  {
   "cell_type": "code",
   "execution_count": 45,
   "metadata": {
    "colab": {},
    "colab_type": "code",
    "id": "nQgbGnY8sfXO"
   },
   "outputs": [],
   "source": [
    "class GeradorSimulacaoExponencial:\n",
    "    def __init__(self):\n",
    "        \"\"\"\n",
    "            Gera uma simulação usando dist. exponencial com p < 1, ou seja,\n",
    "            chegada < atendimento \n",
    "        \"\"\"\n",
    "\n",
    "        while True:\n",
    "            vars = Variaveis()\n",
    "            vars.set_tes(Distribuicoes.EXPONENCIAL.value['func'])\n",
    "            vars.set_tec(Distribuicoes.EXPONENCIAL.value['func'])\n",
    "            s = Simulacao(variaveis=vars, tempo_limite=1000)\n",
    "            s.simular_tudo()\n",
    "            df = s.get_tabela()\n",
    "            chegada = sum(df['tec'])/len(df['cliente'])\n",
    "            atendimento = sum(df['tes'])/len(df['cliente'])\n",
    "\n",
    "            if atendimento > chegada:\n",
    "                self.dfSimulacao = df\n",
    "                break"
   ]
  },
  {
   "cell_type": "code",
   "execution_count": 46,
   "metadata": {
    "colab": {
     "base_uri": "https://localhost:8080/",
     "height": 317
    },
    "colab_type": "code",
    "id": "XX816X8lsk_K",
    "outputId": "9a82652f-592c-4ac0-f3aa-55d269242da3"
   },
   "outputs": [],
   "source": [
    "class MM1:\n",
    "    def __init__(self, df):                \n",
    "        self.chegada = sum(df['tec'])/len(df['cliente'])\n",
    "        self.atendimento = sum(df['tes'])/len(df['cliente'])\n",
    "        self.intensidadeTrafego = self.chegada/self.atendimento\n",
    "        self.ocioso = 1 - self.intensidadeTrafego\n",
    "        \n",
    "    def setProbabilidadeFila(self):\n",
    "        pi0 = self.ocioso\n",
    "        pi1 = self.intensidadeTrafego * (1 - self.intensidadeTrafego)\n",
    "        self.probabilidadeFila = 1 - pi0 - pi1\n",
    "    \n",
    "    def setL(self):\n",
    "        self.l = self.chegada/(self.atendimento - self.chegada)\n",
    "        \n",
    "    def setLs(self):\n",
    "        self.ls = self.intensidadeTrafego\n",
    "    \n",
    "    def setLq(self):\n",
    "        self.lq = self.intensidadeTrafego**2/(1- self.intensidadeTrafego)\n",
    "    \n",
    "    def setW(self):\n",
    "        self.w = 1/(self.atendimento - self.chegada)\n",
    "    \n",
    "    def setWs(self):\n",
    "        self.ws = 1/self.atendimento\n",
    "    \n",
    "    def setWq(self):\n",
    "        self.wq = self.chegada/(self.atendimento * (self.atendimento - self.chegada))\n",
    "    \n",
    "    def calcularTudo(self):\n",
    "        self.setProbabilidadeFila()\n",
    "        self.setL()\n",
    "        self.setLq()\n",
    "        self.setLs()\n",
    "        self.setW()\n",
    "        self.setWs()\n",
    "        self.setWq()\n",
    "    \n",
    "    def plotMetricasGerais(self):\n",
    "        objects = ('λ', 'μ', 'ρ', '1 - ρ')\n",
    "        y_pos = np.arange(len(objects))\n",
    "        performance = [self.chegada, self.atendimento, self.probabilidadeFila, self.ocioso]\n",
    "\n",
    "        plt.bar(y_pos, performance, align='center', color='mediumorchid')\n",
    "        plt.xticks(y_pos, objects)\n",
    "        plt.ylabel('Unidade')\n",
    "        plt.title('Métricas de Gerais do Sistema')\n",
    "        plt.show()\n",
    "        #plt.savefig('metricasGerais.png')\n",
    "        \n",
    "    def plotMetricasTempo(self):\n",
    "        objects = ('W', 'Ws', 'Wq')\n",
    "        y_pos = np.arange(len(objects))\n",
    "        performance = [self.w, self.ws, self.wq]\n",
    "\n",
    "        plt.bar(y_pos, performance, align='center', color='deepskyblue')\n",
    "        plt.xticks(y_pos, objects)\n",
    "        plt.ylabel('Unidade de Tempo')\n",
    "        plt.title('Métricas de Tempo do Sistema')\n",
    "        plt.show()\n",
    "        #plt.savefig('metricasTempo.png')\n",
    "    \n",
    "    def plotMetricasCliente(self):\n",
    "        objects = ('L', 'Ls', 'Lq')\n",
    "        y_pos = np.arange(len(objects))\n",
    "        performance = [self.l, self.ls, self.lq]\n",
    "\n",
    "        plt.bar(y_pos, performance, align='center', color='crimson')\n",
    "        plt.xticks(y_pos, objects)\n",
    "        plt.ylabel('Unidade')\n",
    "        plt.title('Métricas de Clientes do Sistema')\n",
    "        plt.show()\n",
    "        #plt.savefig('metricasClientes.png')\n",
    "        \n",
    "    def gerarTabelaMM1(self):\n",
    "        colunas = ['λ', 'μ', 'ρ', '1 - ρ', 'W', 'Ws', 'Wq', 'L', 'Ls', 'Lq']\n",
    "        dic = dict.fromkeys(colunas, True)\n",
    "        dic['λ'] = self.chegada\n",
    "        dic['μ'] = self.atendimento\n",
    "        dic['ρ'] = self.intensidadeTrafego\n",
    "        dic['1 - ρ'] = self.ocioso\n",
    "        dic['W'] = self.w\n",
    "        dic['Ws'] = self.ws\n",
    "        dic['Wq'] = self.wq\n",
    "        dic['L'] = self.l\n",
    "        dic['Ls'] = self.ls\n",
    "        dic['Lq'] = self.lq\n",
    "        \n",
    "        return pd.DataFrame([dic], columns=colunas)"
   ]
  },
  {
   "cell_type": "code",
   "execution_count": 48,
   "metadata": {
    "colab": {
     "base_uri": "https://localhost:8080/",
     "height": 34
    },
    "colab_type": "code",
    "id": "YG4jbTymu5AR",
    "outputId": "de12a160-c4a8-43c7-d3eb-57f09cb7324c"
   },
   "outputs": [
    {
     "data": {
      "image/png": "[encoded data removed]",
      "text/plain": [
       "<Figure size 432x288 with 1 Axes>"
      ]
     },
     "metadata": {
      "needs_background": "light"
     },
     "output_type": "display_data"
    },
    {
     "data": {
      "image/png": "[encoded data removed]",
      "text/plain": [
       "<Figure size 432x288 with 1 Axes>"
      ]
     },
     "metadata": {
      "needs_background": "light"
     },
     "output_type": "display_data"
    },
    {
     "data": {
      "image/png": "[encoded data removed]",
      "text/plain": [
       "<Figure size 432x288 with 1 Axes>"
      ]
     },
     "metadata": {
      "needs_background": "light"
     },
     "output_type": "display_data"
    }
   ],
   "source": [
    "dfS = GeradorSimulacaoExponencial()\n",
    "df = dfS.dfSimulacao\n",
    "mm1 = MM1(df)\n",
    "mm1.calcularTudo()\n",
    "gerais = mm1.plotMetricasGerais()\n",
    "cliente = mm1.plotMetricasCliente()\n",
    "tempo = mm1.plotMetricasTempo()"
   ]
  },
  {
   "cell_type": "code",
   "execution_count": 0,
   "metadata": {
    "colab": {},
    "colab_type": "code",
    "id": "sLVBDt3Ku80e"
   },
   "outputs": [],
   "source": []
  }
 ],
 "metadata": {
  "colab": {
   "collapsed_sections": [],
   "include_colab_link": true,
   "name": "trabalho_mm1.ipynb",
   "provenance": []
  },
  "kernelspec": {
   "display_name": "Python 3",
   "language": "python",
   "name": "python3"
  },
  "language_info": {
   "codemirror_mode": {
    "name": "ipython",
    "version": 3
   },
   "file_extension": ".py",
   "mimetype": "text/x-python",
   "name": "python",
   "nbconvert_exporter": "python",
   "pygments_lexer": "ipython3",
   "version": "3.7.3"
  }
 },
 "nbformat": 4,
 "nbformat_minor": 1
}
