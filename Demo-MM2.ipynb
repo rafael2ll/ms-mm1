{
 "cells": [
  {
   "cell_type": "code",
   "execution_count": 1,
   "metadata": {},
   "outputs": [],
   "source": [
    "from distribuicoes import Distribuicoes\n",
    "from variaveis import Variaveis\n",
    "from simulacao_mm2 import SimulacaoMM2, GeradorSimulacaoExponencialMM2\n",
    "from mm2 import MM2"
   ]
  },
  {
   "cell_type": "markdown",
   "metadata": {},
   "source": [
    "## Gerando uma simulação com distribuição Normal. "
   ]
  },
  {
   "cell_type": "code",
   "execution_count": 9,
   "metadata": {},
   "outputs": [
    {
     "data": {
      "text/html": [
       "<div>\n",
       "<style scoped>\n",
       "    .dataframe tbody tr th:only-of-type {\n",
       "        vertical-align: middle;\n",
       "    }\n",
       "\n",
       "    .dataframe tbody tr th {\n",
       "        vertical-align: top;\n",
       "    }\n",
       "\n",
       "    .dataframe thead th {\n",
       "        text-align: right;\n",
       "    }\n",
       "</style>\n",
       "<table border=\"1\" class=\"dataframe\">\n",
       "  <thead>\n",
       "    <tr style=\"text-align: right;\">\n",
       "      <th></th>\n",
       "      <th>cliente</th>\n",
       "      <th>tec</th>\n",
       "      <th>t_chegada_relogio</th>\n",
       "      <th>tes</th>\n",
       "      <th>ti_servico_relogio</th>\n",
       "      <th>t_fila</th>\n",
       "      <th>tf_servico_relogio_s1</th>\n",
       "      <th>tf_servico_relogio_s2</th>\n",
       "      <th>t_cliente_sistema</th>\n",
       "      <th>t_livre_operador_s1</th>\n",
       "      <th>t_livre_operador_s2</th>\n",
       "    </tr>\n",
       "  </thead>\n",
       "  <tbody>\n",
       "    <tr>\n",
       "      <th>0</th>\n",
       "      <td>1</td>\n",
       "      <td>0.208678</td>\n",
       "      <td>0.208678</td>\n",
       "      <td>1.038779</td>\n",
       "      <td>0.208678</td>\n",
       "      <td>0.00000</td>\n",
       "      <td>1.247457</td>\n",
       "      <td>0.000000</td>\n",
       "      <td>1.038779</td>\n",
       "      <td>0.208678</td>\n",
       "      <td>0.208678</td>\n",
       "    </tr>\n",
       "    <tr>\n",
       "      <th>1</th>\n",
       "      <td>2</td>\n",
       "      <td>2.192092</td>\n",
       "      <td>2.400770</td>\n",
       "      <td>1.669607</td>\n",
       "      <td>0.000000</td>\n",
       "      <td>0.00000</td>\n",
       "      <td>1.247457</td>\n",
       "      <td>4.070377</td>\n",
       "      <td>1.669607</td>\n",
       "      <td>1.153313</td>\n",
       "      <td>2.400770</td>\n",
       "    </tr>\n",
       "    <tr>\n",
       "      <th>2</th>\n",
       "      <td>3</td>\n",
       "      <td>0.585157</td>\n",
       "      <td>2.985927</td>\n",
       "      <td>0.024911</td>\n",
       "      <td>1.247457</td>\n",
       "      <td>0.00000</td>\n",
       "      <td>3.010837</td>\n",
       "      <td>4.070377</td>\n",
       "      <td>0.024911</td>\n",
       "      <td>1.738470</td>\n",
       "      <td>0.000000</td>\n",
       "    </tr>\n",
       "    <tr>\n",
       "      <th>3</th>\n",
       "      <td>4</td>\n",
       "      <td>0.530427</td>\n",
       "      <td>3.516354</td>\n",
       "      <td>0.006528</td>\n",
       "      <td>3.010837</td>\n",
       "      <td>0.00000</td>\n",
       "      <td>3.522881</td>\n",
       "      <td>4.070377</td>\n",
       "      <td>0.006528</td>\n",
       "      <td>0.505516</td>\n",
       "      <td>0.000000</td>\n",
       "    </tr>\n",
       "    <tr>\n",
       "      <th>4</th>\n",
       "      <td>5</td>\n",
       "      <td>0.536469</td>\n",
       "      <td>4.052823</td>\n",
       "      <td>0.914065</td>\n",
       "      <td>3.522881</td>\n",
       "      <td>0.00000</td>\n",
       "      <td>4.966888</td>\n",
       "      <td>4.070377</td>\n",
       "      <td>0.914065</td>\n",
       "      <td>0.529941</td>\n",
       "      <td>0.000000</td>\n",
       "    </tr>\n",
       "    <tr>\n",
       "      <th>5</th>\n",
       "      <td>6</td>\n",
       "      <td>0.913600</td>\n",
       "      <td>4.966422</td>\n",
       "      <td>1.761652</td>\n",
       "      <td>4.070377</td>\n",
       "      <td>0.00000</td>\n",
       "      <td>4.966888</td>\n",
       "      <td>6.728074</td>\n",
       "      <td>1.761652</td>\n",
       "      <td>0.000000</td>\n",
       "      <td>0.896046</td>\n",
       "    </tr>\n",
       "    <tr>\n",
       "      <th>6</th>\n",
       "      <td>7</td>\n",
       "      <td>0.644963</td>\n",
       "      <td>5.611385</td>\n",
       "      <td>1.431443</td>\n",
       "      <td>4.966888</td>\n",
       "      <td>0.00000</td>\n",
       "      <td>7.042829</td>\n",
       "      <td>6.728074</td>\n",
       "      <td>1.431443</td>\n",
       "      <td>0.644497</td>\n",
       "      <td>0.000000</td>\n",
       "    </tr>\n",
       "    <tr>\n",
       "      <th>7</th>\n",
       "      <td>8</td>\n",
       "      <td>1.023599</td>\n",
       "      <td>6.634985</td>\n",
       "      <td>1.231574</td>\n",
       "      <td>6.728074</td>\n",
       "      <td>0.09309</td>\n",
       "      <td>7.042829</td>\n",
       "      <td>7.959648</td>\n",
       "      <td>1.324663</td>\n",
       "      <td>0.000000</td>\n",
       "      <td>0.000000</td>\n",
       "    </tr>\n",
       "    <tr>\n",
       "      <th>8</th>\n",
       "      <td>9</td>\n",
       "      <td>0.881607</td>\n",
       "      <td>7.516592</td>\n",
       "      <td>0.143937</td>\n",
       "      <td>7.042829</td>\n",
       "      <td>0.00000</td>\n",
       "      <td>7.660529</td>\n",
       "      <td>7.959648</td>\n",
       "      <td>0.143937</td>\n",
       "      <td>0.473764</td>\n",
       "      <td>0.000000</td>\n",
       "    </tr>\n",
       "    <tr>\n",
       "      <th>9</th>\n",
       "      <td>10</td>\n",
       "      <td>0.747730</td>\n",
       "      <td>8.264322</td>\n",
       "      <td>0.760271</td>\n",
       "      <td>7.660529</td>\n",
       "      <td>0.00000</td>\n",
       "      <td>9.024593</td>\n",
       "      <td>7.959648</td>\n",
       "      <td>0.760271</td>\n",
       "      <td>0.603793</td>\n",
       "      <td>0.304674</td>\n",
       "    </tr>\n",
       "  </tbody>\n",
       "</table>\n",
       "</div>"
      ],
      "text/plain": [
       "   cliente       tec  t_chegada_relogio       tes  ti_servico_relogio  \\\n",
       "0        1  0.208678           0.208678  1.038779            0.208678   \n",
       "1        2  2.192092           2.400770  1.669607            0.000000   \n",
       "2        3  0.585157           2.985927  0.024911            1.247457   \n",
       "3        4  0.530427           3.516354  0.006528            3.010837   \n",
       "4        5  0.536469           4.052823  0.914065            3.522881   \n",
       "5        6  0.913600           4.966422  1.761652            4.070377   \n",
       "6        7  0.644963           5.611385  1.431443            4.966888   \n",
       "7        8  1.023599           6.634985  1.231574            6.728074   \n",
       "8        9  0.881607           7.516592  0.143937            7.042829   \n",
       "9       10  0.747730           8.264322  0.760271            7.660529   \n",
       "\n",
       "    t_fila  tf_servico_relogio_s1  tf_servico_relogio_s2  t_cliente_sistema  \\\n",
       "0  0.00000               1.247457               0.000000           1.038779   \n",
       "1  0.00000               1.247457               4.070377           1.669607   \n",
       "2  0.00000               3.010837               4.070377           0.024911   \n",
       "3  0.00000               3.522881               4.070377           0.006528   \n",
       "4  0.00000               4.966888               4.070377           0.914065   \n",
       "5  0.00000               4.966888               6.728074           1.761652   \n",
       "6  0.00000               7.042829               6.728074           1.431443   \n",
       "7  0.09309               7.042829               7.959648           1.324663   \n",
       "8  0.00000               7.660529               7.959648           0.143937   \n",
       "9  0.00000               9.024593               7.959648           0.760271   \n",
       "\n",
       "   t_livre_operador_s1  t_livre_operador_s2  \n",
       "0             0.208678             0.208678  \n",
       "1             1.153313             2.400770  \n",
       "2             1.738470             0.000000  \n",
       "3             0.505516             0.000000  \n",
       "4             0.529941             0.000000  \n",
       "5             0.000000             0.896046  \n",
       "6             0.644497             0.000000  \n",
       "7             0.000000             0.000000  \n",
       "8             0.473764             0.000000  \n",
       "9             0.603793             0.304674  "
      ]
     },
     "execution_count": 9,
     "metadata": {},
     "output_type": "execute_result"
    }
   ],
   "source": [
    "vars = Variaveis()\n",
    "vars.set_tes(Distribuicoes.NORMAL.value['func'])\n",
    "vars.set_tec(Distribuicoes.NORMAL.value['func'])\n",
    "s = SimulacaoMM2(variaveis=vars, clientes=10)\n",
    "s.simular_tudo()\n",
    "df = s.get_tabela()\n",
    "df"
   ]
  },
  {
   "cell_type": "code",
   "execution_count": 10,
   "metadata": {},
   "outputs": [
    {
     "data": {
      "image/png": "[encoded data removed]",
      "text/plain": [
       "<Figure size 432x288 with 1 Axes>"
      ]
     },
     "metadata": {
      "needs_background": "light"
     },
     "output_type": "display_data"
    },
    {
     "data": {
      "image/png": "[encoded data removed]",
      "text/plain": [
       "<Figure size 432x288 with 1 Axes>"
      ]
     },
     "metadata": {
      "needs_background": "light"
     },
     "output_type": "display_data"
    },
    {
     "data": {
      "image/png": "[encoded data removed]",
      "text/plain": [
       "<Figure size 432x288 with 1 Axes>"
      ]
     },
     "metadata": {},
     "output_type": "display_data"
    },
    {
     "data": {
      "image/png": "[encoded data removed]",
      "text/plain": [
       "<Figure size 432x288 with 1 Axes>"
      ]
     },
     "metadata": {
      "needs_background": "light"
     },
     "output_type": "display_data"
    }
   ],
   "source": [
    "mm2 = MM2(df)\n",
    "mm2.calcularTudo()\n",
    "mm2.plot()"
   ]
  },
  {
   "cell_type": "markdown",
   "metadata": {},
   "source": [
    "## Gerando uma simulação com distribuição exponencial utilizando o gerador. "
   ]
  },
  {
   "cell_type": "code",
   "execution_count": 7,
   "metadata": {},
   "outputs": [
    {
     "data": {
      "text/html": [
       "<div>\n",
       "<style scoped>\n",
       "    .dataframe tbody tr th:only-of-type {\n",
       "        vertical-align: middle;\n",
       "    }\n",
       "\n",
       "    .dataframe tbody tr th {\n",
       "        vertical-align: top;\n",
       "    }\n",
       "\n",
       "    .dataframe thead th {\n",
       "        text-align: right;\n",
       "    }\n",
       "</style>\n",
       "<table border=\"1\" class=\"dataframe\">\n",
       "  <thead>\n",
       "    <tr style=\"text-align: right;\">\n",
       "      <th></th>\n",
       "      <th>cliente</th>\n",
       "      <th>tec</th>\n",
       "      <th>t_chegada_relogio</th>\n",
       "      <th>tes</th>\n",
       "      <th>ti_servico_relogio</th>\n",
       "      <th>t_fila</th>\n",
       "      <th>tf_servico_relogio_s1</th>\n",
       "      <th>tf_servico_relogio_s2</th>\n",
       "      <th>t_cliente_sistema</th>\n",
       "      <th>t_livre_operador_s1</th>\n",
       "      <th>t_livre_operador_s2</th>\n",
       "    </tr>\n",
       "  </thead>\n",
       "  <tbody>\n",
       "    <tr>\n",
       "      <th>0</th>\n",
       "      <td>1</td>\n",
       "      <td>1.693109</td>\n",
       "      <td>1.693109</td>\n",
       "      <td>0.926776</td>\n",
       "      <td>1.693109</td>\n",
       "      <td>0.0</td>\n",
       "      <td>2.619886</td>\n",
       "      <td>0.000000</td>\n",
       "      <td>0.926776</td>\n",
       "      <td>1.693109</td>\n",
       "      <td>1.693109</td>\n",
       "    </tr>\n",
       "    <tr>\n",
       "      <th>1</th>\n",
       "      <td>2</td>\n",
       "      <td>0.156338</td>\n",
       "      <td>1.849447</td>\n",
       "      <td>0.595363</td>\n",
       "      <td>0.000000</td>\n",
       "      <td>0.0</td>\n",
       "      <td>2.619886</td>\n",
       "      <td>2.444810</td>\n",
       "      <td>0.595363</td>\n",
       "      <td>0.000000</td>\n",
       "      <td>1.849447</td>\n",
       "    </tr>\n",
       "    <tr>\n",
       "      <th>2</th>\n",
       "      <td>3</td>\n",
       "      <td>1.559281</td>\n",
       "      <td>3.408728</td>\n",
       "      <td>0.762751</td>\n",
       "      <td>2.444810</td>\n",
       "      <td>0.0</td>\n",
       "      <td>2.619886</td>\n",
       "      <td>4.171479</td>\n",
       "      <td>0.762751</td>\n",
       "      <td>0.788842</td>\n",
       "      <td>0.963918</td>\n",
       "    </tr>\n",
       "    <tr>\n",
       "      <th>3</th>\n",
       "      <td>4</td>\n",
       "      <td>3.349521</td>\n",
       "      <td>6.758248</td>\n",
       "      <td>2.563000</td>\n",
       "      <td>2.619886</td>\n",
       "      <td>0.0</td>\n",
       "      <td>9.321248</td>\n",
       "      <td>4.171479</td>\n",
       "      <td>2.563000</td>\n",
       "      <td>4.138363</td>\n",
       "      <td>2.586769</td>\n",
       "    </tr>\n",
       "    <tr>\n",
       "      <th>4</th>\n",
       "      <td>5</td>\n",
       "      <td>1.329629</td>\n",
       "      <td>8.087877</td>\n",
       "      <td>1.360373</td>\n",
       "      <td>4.171479</td>\n",
       "      <td>0.0</td>\n",
       "      <td>9.321248</td>\n",
       "      <td>9.448250</td>\n",
       "      <td>1.360373</td>\n",
       "      <td>0.000000</td>\n",
       "      <td>3.916398</td>\n",
       "    </tr>\n",
       "  </tbody>\n",
       "</table>\n",
       "</div>"
      ],
      "text/plain": [
       "   cliente       tec  t_chegada_relogio       tes  ti_servico_relogio  t_fila  \\\n",
       "0        1  1.693109           1.693109  0.926776            1.693109     0.0   \n",
       "1        2  0.156338           1.849447  0.595363            0.000000     0.0   \n",
       "2        3  1.559281           3.408728  0.762751            2.444810     0.0   \n",
       "3        4  3.349521           6.758248  2.563000            2.619886     0.0   \n",
       "4        5  1.329629           8.087877  1.360373            4.171479     0.0   \n",
       "\n",
       "   tf_servico_relogio_s1  tf_servico_relogio_s2  t_cliente_sistema  \\\n",
       "0               2.619886               0.000000           0.926776   \n",
       "1               2.619886               2.444810           0.595363   \n",
       "2               2.619886               4.171479           0.762751   \n",
       "3               9.321248               4.171479           2.563000   \n",
       "4               9.321248               9.448250           1.360373   \n",
       "\n",
       "   t_livre_operador_s1  t_livre_operador_s2  \n",
       "0             1.693109             1.693109  \n",
       "1             0.000000             1.849447  \n",
       "2             0.788842             0.963918  \n",
       "3             4.138363             2.586769  \n",
       "4             0.000000             3.916398  "
      ]
     },
     "execution_count": 7,
     "metadata": {},
     "output_type": "execute_result"
    }
   ],
   "source": [
    "dfS = GeradorSimulacaoExponencialMM2()\n",
    "df = dfS.dfSimulacao\n",
    "df.head()"
   ]
  },
  {
   "cell_type": "markdown",
   "metadata": {},
   "source": [
    "## Gerando um modelo M/M/2 utilizando o DataFrame criado pelo gerador"
   ]
  },
  {
   "cell_type": "code",
   "execution_count": 4,
   "metadata": {},
   "outputs": [
    {
     "data": {
      "image/png": "[encoded data removed]",
      "text/plain": [
       "<Figure size 432x288 with 1 Axes>"
      ]
     },
     "metadata": {
      "needs_background": "light"
     },
     "output_type": "display_data"
    },
    {
     "data": {
      "image/png": "[encoded data removed]",
      "text/plain": [
       "<Figure size 432x288 with 1 Axes>"
      ]
     },
     "metadata": {
      "needs_background": "light"
     },
     "output_type": "display_data"
    },
    {
     "data": {
      "image/png": "[encoded data removed]",
      "text/plain": [
       "<Figure size 432x288 with 1 Axes>"
      ]
     },
     "metadata": {},
     "output_type": "display_data"
    },
    {
     "data": {
      "image/png": "[encoded data removed]",
      "text/plain": [
       "<Figure size 432x288 with 1 Axes>"
      ]
     },
     "metadata": {
      "needs_background": "light"
     },
     "output_type": "display_data"
    }
   ],
   "source": [
    "mm2 = MM2(df)\n",
    "mm2.calcularTudo()\n",
    "mm2.plot()"
   ]
  },
  {
   "cell_type": "markdown",
   "metadata": {},
   "source": [
    "## Gerando um modelo M/M/2 utilizando outros valores"
   ]
  },
  {
   "cell_type": "code",
   "execution_count": 5,
   "metadata": {},
   "outputs": [
    {
     "data": {
      "image/png": "[encoded data removed]",
      "text/plain": [
       "<Figure size 432x288 with 1 Axes>"
      ]
     },
     "metadata": {
      "needs_background": "light"
     },
     "output_type": "display_data"
    },
    {
     "data": {
      "image/png": "[encoded data removed]",
      "text/plain": [
       "<Figure size 432x288 with 1 Axes>"
      ]
     },
     "metadata": {
      "needs_background": "light"
     },
     "output_type": "display_data"
    },
    {
     "data": {
      "image/png": "[encoded data removed]",
      "text/plain": [
       "<Figure size 432x288 with 1 Axes>"
      ]
     },
     "metadata": {},
     "output_type": "display_data"
    },
    {
     "data": {
      "image/png": "[encoded data removed]",
      "text/plain": [
       "<Figure size 432x288 with 1 Axes>"
      ]
     },
     "metadata": {
      "needs_background": "light"
     },
     "output_type": "display_data"
    }
   ],
   "source": [
    "mm2 = MM2(chegada = 10, atendimento = 15)\n",
    "mm2.calcularTudo()\n",
    "mm2.plot()"
   ]
  },
  {
   "cell_type": "code",
   "execution_count": null,
   "metadata": {},
   "outputs": [],
   "source": []
  }
 ],
 "metadata": {
  "kernelspec": {
   "display_name": "Python 3",
   "language": "python",
   "name": "python3"
  },
  "language_info": {
   "codemirror_mode": {
    "name": "ipython",
    "version": 3
   },
   "file_extension": ".py",
   "mimetype": "text/x-python",
   "name": "python",
   "nbconvert_exporter": "python",
   "pygments_lexer": "ipython3",
   "version": "3.6.8"
  }
 },
 "nbformat": 4,
 "nbformat_minor": 4
}
