{
 "cells": [
  {
   "cell_type": "code",
   "execution_count": 2,
   "metadata": {},
   "outputs": [],
   "source": [
    "from distribuicoes import Distribuicoes\n",
    "from variaveis import Variaveis\n",
    "from simulacao import Simulacao, GeradorSimulacaoExponencial\n",
    "from mm1 import MM1"
   ]
  },
  {
   "cell_type": "markdown",
   "metadata": {},
   "source": [
    "## Gerando uma simulação com distribuição Normal. "
   ]
  },
  {
   "cell_type": "code",
   "execution_count": 3,
   "metadata": {},
   "outputs": [
    {
     "data": {
      "text/html": [
       "<div>\n",
       "<style scoped>\n",
       "    .dataframe tbody tr th:only-of-type {\n",
       "        vertical-align: middle;\n",
       "    }\n",
       "\n",
       "    .dataframe tbody tr th {\n",
       "        vertical-align: top;\n",
       "    }\n",
       "\n",
       "    .dataframe thead th {\n",
       "        text-align: right;\n",
       "    }\n",
       "</style>\n",
       "<table border=\"1\" class=\"dataframe\">\n",
       "  <thead>\n",
       "    <tr style=\"text-align: right;\">\n",
       "      <th></th>\n",
       "      <th>cliente</th>\n",
       "      <th>tec</th>\n",
       "      <th>tempo_chegada_relogio</th>\n",
       "      <th>tes</th>\n",
       "      <th>tempo_inicio_servico_relogio</th>\n",
       "      <th>tempo_fila</th>\n",
       "      <th>tempo_final_servico_relogio</th>\n",
       "      <th>tempo_cliente_sistema</th>\n",
       "      <th>tempo_livre_operador</th>\n",
       "    </tr>\n",
       "  </thead>\n",
       "  <tbody>\n",
       "    <tr>\n",
       "      <th>0</th>\n",
       "      <td>1</td>\n",
       "      <td>5.832237</td>\n",
       "      <td>5.832237</td>\n",
       "      <td>4.498108</td>\n",
       "      <td>5.832237</td>\n",
       "      <td>0.000000</td>\n",
       "      <td>10.330345</td>\n",
       "      <td>4.498108</td>\n",
       "      <td>5.832237</td>\n",
       "    </tr>\n",
       "    <tr>\n",
       "      <th>1</th>\n",
       "      <td>2</td>\n",
       "      <td>2.877919</td>\n",
       "      <td>8.710156</td>\n",
       "      <td>0.251790</td>\n",
       "      <td>10.330345</td>\n",
       "      <td>1.620189</td>\n",
       "      <td>10.582135</td>\n",
       "      <td>1.871979</td>\n",
       "      <td>0.000000</td>\n",
       "    </tr>\n",
       "    <tr>\n",
       "      <th>2</th>\n",
       "      <td>3</td>\n",
       "      <td>13.962641</td>\n",
       "      <td>22.672797</td>\n",
       "      <td>1.696264</td>\n",
       "      <td>22.672797</td>\n",
       "      <td>0.000000</td>\n",
       "      <td>24.369061</td>\n",
       "      <td>1.696264</td>\n",
       "      <td>12.090662</td>\n",
       "    </tr>\n",
       "    <tr>\n",
       "      <th>3</th>\n",
       "      <td>4</td>\n",
       "      <td>6.690106</td>\n",
       "      <td>29.362903</td>\n",
       "      <td>7.752747</td>\n",
       "      <td>29.362903</td>\n",
       "      <td>0.000000</td>\n",
       "      <td>37.115650</td>\n",
       "      <td>7.752747</td>\n",
       "      <td>4.993843</td>\n",
       "    </tr>\n",
       "    <tr>\n",
       "      <th>4</th>\n",
       "      <td>5</td>\n",
       "      <td>6.435601</td>\n",
       "      <td>35.798504</td>\n",
       "      <td>3.728594</td>\n",
       "      <td>37.115650</td>\n",
       "      <td>1.317147</td>\n",
       "      <td>40.844244</td>\n",
       "      <td>5.045740</td>\n",
       "      <td>0.000000</td>\n",
       "    </tr>\n",
       "  </tbody>\n",
       "</table>\n",
       "</div>"
      ],
      "text/plain": [
       "   cliente        tec  tempo_chegada_relogio       tes  \\\n",
       "0        1   5.832237               5.832237  4.498108   \n",
       "1        2   2.877919               8.710156  0.251790   \n",
       "2        3  13.962641              22.672797  1.696264   \n",
       "3        4   6.690106              29.362903  7.752747   \n",
       "4        5   6.435601              35.798504  3.728594   \n",
       "\n",
       "   tempo_inicio_servico_relogio  tempo_fila  tempo_final_servico_relogio  \\\n",
       "0                      5.832237    0.000000                    10.330345   \n",
       "1                     10.330345    1.620189                    10.582135   \n",
       "2                     22.672797    0.000000                    24.369061   \n",
       "3                     29.362903    0.000000                    37.115650   \n",
       "4                     37.115650    1.317147                    40.844244   \n",
       "\n",
       "   tempo_cliente_sistema  tempo_livre_operador  \n",
       "0               4.498108              5.832237  \n",
       "1               1.871979              0.000000  \n",
       "2               1.696264             12.090662  \n",
       "3               7.752747              4.993843  \n",
       "4               5.045740              0.000000  "
      ]
     },
     "execution_count": 3,
     "metadata": {},
     "output_type": "execute_result"
    }
   ],
   "source": [
    "vars = Variaveis()\n",
    "vars.set_tes(Distribuicoes.NORMAL.value['func'])\n",
    "vars.set_tec(Distribuicoes.NORMAL.value['func'])\n",
    "s = Simulacao(variaveis=vars, tempo_limite=1000)\n",
    "s.simular_tudo()\n",
    "df = s.get_tabela()\n",
    "df.head()"
   ]
  },
  {
   "cell_type": "markdown",
   "metadata": {},
   "source": [
    "## Gerando uma simulação com distribuição exponencial utilizando o gerador. "
   ]
  },
  {
   "cell_type": "code",
   "execution_count": 4,
   "metadata": {},
   "outputs": [
    {
     "data": {
      "text/html": [
       "<div>\n",
       "<style scoped>\n",
       "    .dataframe tbody tr th:only-of-type {\n",
       "        vertical-align: middle;\n",
       "    }\n",
       "\n",
       "    .dataframe tbody tr th {\n",
       "        vertical-align: top;\n",
       "    }\n",
       "\n",
       "    .dataframe thead th {\n",
       "        text-align: right;\n",
       "    }\n",
       "</style>\n",
       "<table border=\"1\" class=\"dataframe\">\n",
       "  <thead>\n",
       "    <tr style=\"text-align: right;\">\n",
       "      <th></th>\n",
       "      <th>cliente</th>\n",
       "      <th>tec</th>\n",
       "      <th>tempo_chegada_relogio</th>\n",
       "      <th>tes</th>\n",
       "      <th>tempo_inicio_servico_relogio</th>\n",
       "      <th>tempo_fila</th>\n",
       "      <th>tempo_final_servico_relogio</th>\n",
       "      <th>tempo_cliente_sistema</th>\n",
       "      <th>tempo_livre_operador</th>\n",
       "    </tr>\n",
       "  </thead>\n",
       "  <tbody>\n",
       "    <tr>\n",
       "      <th>0</th>\n",
       "      <td>1</td>\n",
       "      <td>1.136725</td>\n",
       "      <td>1.136725</td>\n",
       "      <td>43.525040</td>\n",
       "      <td>1.136725</td>\n",
       "      <td>0.000000</td>\n",
       "      <td>44.661765</td>\n",
       "      <td>43.525040</td>\n",
       "      <td>1.136725</td>\n",
       "    </tr>\n",
       "    <tr>\n",
       "      <th>1</th>\n",
       "      <td>2</td>\n",
       "      <td>5.920928</td>\n",
       "      <td>7.057653</td>\n",
       "      <td>15.389696</td>\n",
       "      <td>44.661765</td>\n",
       "      <td>37.604112</td>\n",
       "      <td>60.051460</td>\n",
       "      <td>52.993807</td>\n",
       "      <td>0.000000</td>\n",
       "    </tr>\n",
       "    <tr>\n",
       "      <th>2</th>\n",
       "      <td>3</td>\n",
       "      <td>5.482878</td>\n",
       "      <td>12.540531</td>\n",
       "      <td>3.700028</td>\n",
       "      <td>60.051460</td>\n",
       "      <td>47.510929</td>\n",
       "      <td>63.751488</td>\n",
       "      <td>51.210957</td>\n",
       "      <td>0.000000</td>\n",
       "    </tr>\n",
       "    <tr>\n",
       "      <th>3</th>\n",
       "      <td>4</td>\n",
       "      <td>1.982157</td>\n",
       "      <td>14.522688</td>\n",
       "      <td>14.636684</td>\n",
       "      <td>63.751488</td>\n",
       "      <td>49.228801</td>\n",
       "      <td>78.388173</td>\n",
       "      <td>63.865485</td>\n",
       "      <td>0.000000</td>\n",
       "    </tr>\n",
       "    <tr>\n",
       "      <th>4</th>\n",
       "      <td>5</td>\n",
       "      <td>2.171248</td>\n",
       "      <td>16.693936</td>\n",
       "      <td>11.711311</td>\n",
       "      <td>78.388173</td>\n",
       "      <td>61.694237</td>\n",
       "      <td>90.099484</td>\n",
       "      <td>73.405548</td>\n",
       "      <td>0.000000</td>\n",
       "    </tr>\n",
       "  </tbody>\n",
       "</table>\n",
       "</div>"
      ],
      "text/plain": [
       "   cliente       tec  tempo_chegada_relogio        tes  \\\n",
       "0        1  1.136725               1.136725  43.525040   \n",
       "1        2  5.920928               7.057653  15.389696   \n",
       "2        3  5.482878              12.540531   3.700028   \n",
       "3        4  1.982157              14.522688  14.636684   \n",
       "4        5  2.171248              16.693936  11.711311   \n",
       "\n",
       "   tempo_inicio_servico_relogio  tempo_fila  tempo_final_servico_relogio  \\\n",
       "0                      1.136725    0.000000                    44.661765   \n",
       "1                     44.661765   37.604112                    60.051460   \n",
       "2                     60.051460   47.510929                    63.751488   \n",
       "3                     63.751488   49.228801                    78.388173   \n",
       "4                     78.388173   61.694237                    90.099484   \n",
       "\n",
       "   tempo_cliente_sistema  tempo_livre_operador  \n",
       "0              43.525040              1.136725  \n",
       "1              52.993807              0.000000  \n",
       "2              51.210957              0.000000  \n",
       "3              63.865485              0.000000  \n",
       "4              73.405548              0.000000  "
      ]
     },
     "execution_count": 4,
     "metadata": {},
     "output_type": "execute_result"
    }
   ],
   "source": [
    "dfS = GeradorSimulacaoExponencial()\n",
    "df = dfS.dfSimulacao\n",
    "df.head()"
   ]
  },
  {
   "cell_type": "markdown",
   "metadata": {},
   "source": [
    "## Gerando um modelo M/M/1 utilizando o DataFrame criado pelo gerador"
   ]
  },
  {
   "cell_type": "code",
   "execution_count": 5,
   "metadata": {},
   "outputs": [
    {
     "data": {
      "image/png": "[encoded data removed]",
      "text/plain": [
       "<Figure size 432x288 with 1 Axes>"
      ]
     },
     "metadata": {
      "needs_background": "light"
     },
     "output_type": "display_data"
    },
    {
     "data": {
      "image/png": "[encoded data removed]",
      "text/plain": [
       "<Figure size 432x288 with 1 Axes>"
      ]
     },
     "metadata": {
      "needs_background": "light"
     },
     "output_type": "display_data"
    },
    {
     "data": {
      "image/png": "[encoded data removed]",
      "text/plain": [
       "<Figure size 432x288 with 1 Axes>"
      ]
     },
     "metadata": {
      "needs_background": "light"
     },
     "output_type": "display_data"
    }
   ],
   "source": [
    "mm1 = MM1(df)\n",
    "mm1.calcularTudo()\n",
    "gerais = mm1.plotMetricasGerais()\n",
    "cliente = mm1.plotMetricasCliente()\n",
    "tempo = mm1.plotMetricasTempo()"
   ]
  },
  {
   "cell_type": "markdown",
   "metadata": {},
   "source": [
    "## Gerando um modelo M/M/1 utilizando outros valores"
   ]
  },
  {
   "cell_type": "code",
   "execution_count": 6,
   "metadata": {},
   "outputs": [
    {
     "data": {
      "image/png": "[encoded data removed]",
      "text/plain": [
       "<Figure size 432x288 with 1 Axes>"
      ]
     },
     "metadata": {
      "needs_background": "light"
     },
     "output_type": "display_data"
    },
    {
     "data": {
      "image/png": "[encoded data removed]",
      "text/plain": [
       "<Figure size 432x288 with 1 Axes>"
      ]
     },
     "metadata": {
      "needs_background": "light"
     },
     "output_type": "display_data"
    },
    {
     "data": {
      "image/png": "[encoded data removed]",
      "text/plain": [
       "<Figure size 432x288 with 1 Axes>"
      ]
     },
     "metadata": {
      "needs_background": "light"
     },
     "output_type": "display_data"
    }
   ],
   "source": [
    "mm1 = MM1(chegada = 10, atendimento = 15)\n",
    "mm1.calcularTudo()\n",
    "gerais = mm1.plotMetricasGerais()\n",
    "cliente = mm1.plotMetricasCliente()\n",
    "tempo = mm1.plotMetricasTempo()"
   ]
  }
 ],
 "metadata": {
  "kernelspec": {
   "display_name": "Python 3",
   "language": "python",
   "name": "python3"
  },
  "language_info": {
   "codemirror_mode": {
    "name": "ipython",
    "version": 3
   },
   "file_extension": ".py",
   "mimetype": "text/x-python",
   "name": "python",
   "nbconvert_exporter": "python",
   "pygments_lexer": "ipython3",
   "version": "3.6.8"
  }
 },
 "nbformat": 4,
 "nbformat_minor": 4
}
