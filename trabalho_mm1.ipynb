{
  "nbformat": 4,
  "nbformat_minor": 0,
  "metadata": {
    "colab": {
      "name": "trabalho_mm1.ipynb",
      "provenance": [],
      "collapsed_sections": [],
      "include_colab_link": true
    },
    "kernelspec": {
      "name": "python3",
      "display_name": "Python 3"
    }
  },
  "cells": [
    {
      "cell_type": "markdown",
      "metadata": {
        "id": "view-in-github",
        "colab_type": "text"
      },
      "source": [
        "<a href=\"https://colab.research.google.com/github/rafael2ll/ms-mm1/blob/master/trabalho_mm1.ipynb\" target=\"_parent\"><img src=\"https://colab.research.google.com/assets/colab-badge.svg\" alt=\"Open In Colab\"/></a>"
      ]
    },
    {
      "cell_type": "code",
      "metadata": {
        "id": "mev88fwIqeri",
        "colab_type": "code",
        "colab": {}
      },
      "source": [
        "import numpy as np\n",
        "import pandas as pd\n",
        "import matplotlib.pyplot as plt\n",
        "from enum import Enum"
      ],
      "execution_count": 0,
      "outputs": []
    },
    {
      "cell_type": "code",
      "metadata": {
        "id": "m8TSlNF8qyv7",
        "colab_type": "code",
        "colab": {}
      },
      "source": [
        "class Distribuicoes(Enum):\n",
        "    NORMAL = {'name': 'Normal', 'func': np.random.normal}\n",
        "    EXPONENCIAL= {'name': 'Exponencial', 'func': np.random.exponential}\n",
        "    POISSON = {'name': 'Poisson', 'func': np.random.poisson}\n",
        "    BINOMIAL = {'name': 'Binomial', 'func': np.random.binomial}"
      ],
      "execution_count": 0,
      "outputs": []
    },
    {
      "cell_type": "code",
      "metadata": {
        "id": "I8QoqVgjRVYW",
        "colab_type": "code",
        "colab": {}
      },
      "source": [
        "class Variaveis:\n",
        "    def __init___(self):\n",
        "        self.tec_funcao = lambda:  1\n",
        "        self.tes_funcao = lambda:  1\n",
        "    \n",
        "    def set_tec(self, f):\n",
        "        \"\"\"\n",
        "            params: \n",
        "                f: (func) função de aridade 0 de retorno inteiro\n",
        "        \"\"\"\n",
        "        self.tec_funcao = f\n",
        "        \n",
        "    def get_tec(self):\n",
        "        return self.tec_funcao()\n",
        "    \n",
        "    def set_tes(self, f):\n",
        "        \"\"\"\n",
        "            params:\n",
        "                f: (func) função de aridade 0 de retorno inteiro\n",
        "        \"\"\"\n",
        "        self.tes_funcao = f\n",
        "        \n",
        "    def get_tes(self):\n",
        "        return  self.tes_funcao()"
      ],
      "execution_count": 0,
      "outputs": []
    },
    {
      "cell_type": "code",
      "metadata": {
        "id": "rvsyOkGxRbC5",
        "colab_type": "code",
        "colab": {}
      },
      "source": [
        "class Simulacao:\n",
        "    def __init__(self, variaveis = Variaveis(), tempo_limite=-1, clientes=-1):\n",
        "        self.variaveis = variaveis\n",
        "        self.simulacao = list()\n",
        "        self.tempo_limite = tempo_limite\n",
        "        self.numero_clientes = clientes\n",
        "    \n",
        "    def simular_tudo(self):\n",
        "        self.simulacao = []\n",
        "        if self.numero_clientes > 0:\n",
        "            for i in range(self.numero_clientes):\n",
        "                self.simular()\n",
        "        elif self.tempo_limite > 0:\n",
        "            tempo_relogio = 0\n",
        "            while tempo_relogio < self.tempo_limite:\n",
        "                self.simular()\n",
        "                tempo_relogio = self.simulacao[-1][\"tempo_final_servico_relogio\"]\n",
        "    def simular(self):\n",
        "        if len(self.simulacao) == 0:\n",
        "            cliente = 1\n",
        "            tec = abs(self.variaveis.tec_funcao()*10)\n",
        "            tempo_chegada_relogio = tec\n",
        "            tes = abs(self.variaveis.tes_funcao()*10)\n",
        "            tempo_inicio_servico_relogio = tec\n",
        "            tempo_fila = 0\n",
        "            tempo_final_servico_relogio= tec+tes\n",
        "            tempo_cliente_sistema = tes\n",
        "            tempo_livre_operador = tec\n",
        "        else:\n",
        "            cliente = self.simulacao[-1]['cliente']+1   \n",
        "            tec = abs(self.variaveis.tec_funcao()*10)\n",
        "            tempo_chegada_relogio =  self.simulacao[-1]['tempo_chegada_relogio'] +tec\n",
        "            tes = abs(self.variaveis.tes_funcao()*100)\n",
        "            tempo_inicio_servico_relogio = max([tempo_chegada_relogio, self.simulacao[-1]['tempo_final_servico_relogio']])\n",
        "            tempo_fila = max([0,  self.simulacao[-1]['tempo_final_servico_relogio'] - tempo_chegada_relogio])\n",
        "            tempo_final_servico_relogio= tempo_chegada_relogio+tempo_fila+tes\n",
        "            tempo_cliente_sistema = tempo_fila + tes\n",
        "            tempo_livre_operador = max([0, tempo_chegada_relogio -self.simulacao[-1]['tempo_final_servico_relogio']])\n",
        "        \n",
        "        iteracao ={\n",
        "                'cliente': cliente, \n",
        "                'tec': tec,\n",
        "                'tempo_chegada_relogio': tempo_chegada_relogio,\n",
        "                'tes': tes,\n",
        "                'tempo_inicio_servico_relogio': tempo_inicio_servico_relogio,\n",
        "                'tempo_fila': tempo_fila,\n",
        "                'tempo_final_servico_relogio': tempo_final_servico_relogio,\n",
        "                'tempo_cliente_sistema': tempo_cliente_sistema,\n",
        "                'tempo_livre_operador': tempo_livre_operador\n",
        "                }\n",
        "        self.simulacao.append(iteracao)\n",
        "        \n",
        "    def get_tabela(self):\n",
        "          return pd.DataFrame(self.simulacao, columns=['cliente', 'tec', 'tempo_chegada_relogio', 'tes', 'tempo_inicio_servico_relogio', 'tempo_fila', 'tempo_final_servico_relogio', 'tempo_cliente_sistema', 'tempo_livre_operador'])"
      ],
      "execution_count": 0,
      "outputs": []
    },
    {
      "cell_type": "code",
      "metadata": {
        "id": "nQgbGnY8sfXO",
        "colab_type": "code",
        "colab": {}
      },
      "source": [
        "vars = Variaveis()\n",
        "vars.set_tes(Distribuicoes.EXPONENCIAL.value['func'])\n",
        "vars.set_tec(Distribuicoes.EXPONENCIAL.value['func'])\n",
        "\n",
        "s = Simulacao(variaveis=vars, tempo_limite=1000)"
      ],
      "execution_count": 0,
      "outputs": []
    },
    {
      "cell_type": "code",
      "metadata": {
        "id": "XX816X8lsk_K",
        "colab_type": "code",
        "outputId": "9a82652f-592c-4ac0-f3aa-55d269242da3",
        "colab": {
          "base_uri": "https://localhost:8080/",
          "height": 317
        }
      },
      "source": [
        "s.simular_tudo()\n",
        "s.get_tabela()"
      ],
      "execution_count": 0,
      "outputs": [
        {
          "output_type": "execute_result",
          "data": {
            "text/html": [
              "<div>\n",
              "<style scoped>\n",
              "    .dataframe tbody tr th:only-of-type {\n",
              "        vertical-align: middle;\n",
              "    }\n",
              "\n",
              "    .dataframe tbody tr th {\n",
              "        vertical-align: top;\n",
              "    }\n",
              "\n",
              "    .dataframe thead th {\n",
              "        text-align: right;\n",
              "    }\n",
              "</style>\n",
              "<table border=\"1\" class=\"dataframe\">\n",
              "  <thead>\n",
              "    <tr style=\"text-align: right;\">\n",
              "      <th></th>\n",
              "      <th>cliente</th>\n",
              "      <th>tec</th>\n",
              "      <th>tempo_chegada_relogio</th>\n",
              "      <th>tes</th>\n",
              "      <th>tempo_inicio_servico_relogio</th>\n",
              "      <th>tempo_fila</th>\n",
              "      <th>tempo_final_servico_relogio</th>\n",
              "      <th>tempo_cliente_sistema</th>\n",
              "      <th>tempo_livre_operador</th>\n",
              "    </tr>\n",
              "  </thead>\n",
              "  <tbody>\n",
              "    <tr>\n",
              "      <th>0</th>\n",
              "      <td>1</td>\n",
              "      <td>11.434032</td>\n",
              "      <td>11.434032</td>\n",
              "      <td>0.416393</td>\n",
              "      <td>11.434032</td>\n",
              "      <td>0.000000</td>\n",
              "      <td>11.850426</td>\n",
              "      <td>0.416393</td>\n",
              "      <td>11.434032</td>\n",
              "    </tr>\n",
              "    <tr>\n",
              "      <th>1</th>\n",
              "      <td>2</td>\n",
              "      <td>28.994134</td>\n",
              "      <td>40.428166</td>\n",
              "      <td>25.595479</td>\n",
              "      <td>40.428166</td>\n",
              "      <td>0.000000</td>\n",
              "      <td>66.023645</td>\n",
              "      <td>25.595479</td>\n",
              "      <td>28.577741</td>\n",
              "    </tr>\n",
              "    <tr>\n",
              "      <th>2</th>\n",
              "      <td>3</td>\n",
              "      <td>2.905123</td>\n",
              "      <td>43.333289</td>\n",
              "      <td>172.349973</td>\n",
              "      <td>66.023645</td>\n",
              "      <td>22.690356</td>\n",
              "      <td>238.373618</td>\n",
              "      <td>195.040329</td>\n",
              "      <td>0.000000</td>\n",
              "    </tr>\n",
              "    <tr>\n",
              "      <th>3</th>\n",
              "      <td>4</td>\n",
              "      <td>0.736133</td>\n",
              "      <td>44.069422</td>\n",
              "      <td>27.693861</td>\n",
              "      <td>238.373618</td>\n",
              "      <td>194.304196</td>\n",
              "      <td>266.067480</td>\n",
              "      <td>221.998058</td>\n",
              "      <td>0.000000</td>\n",
              "    </tr>\n",
              "    <tr>\n",
              "      <th>4</th>\n",
              "      <td>5</td>\n",
              "      <td>6.952038</td>\n",
              "      <td>51.021459</td>\n",
              "      <td>518.200251</td>\n",
              "      <td>266.067480</td>\n",
              "      <td>215.046020</td>\n",
              "      <td>784.267731</td>\n",
              "      <td>733.246272</td>\n",
              "      <td>0.000000</td>\n",
              "    </tr>\n",
              "    <tr>\n",
              "      <th>5</th>\n",
              "      <td>6</td>\n",
              "      <td>12.406643</td>\n",
              "      <td>63.428102</td>\n",
              "      <td>79.040681</td>\n",
              "      <td>784.267731</td>\n",
              "      <td>720.839629</td>\n",
              "      <td>863.308412</td>\n",
              "      <td>799.880310</td>\n",
              "      <td>0.000000</td>\n",
              "    </tr>\n",
              "    <tr>\n",
              "      <th>6</th>\n",
              "      <td>7</td>\n",
              "      <td>10.506690</td>\n",
              "      <td>73.934792</td>\n",
              "      <td>7.119940</td>\n",
              "      <td>863.308412</td>\n",
              "      <td>789.373620</td>\n",
              "      <td>870.428351</td>\n",
              "      <td>796.493559</td>\n",
              "      <td>0.000000</td>\n",
              "    </tr>\n",
              "    <tr>\n",
              "      <th>7</th>\n",
              "      <td>8</td>\n",
              "      <td>20.639973</td>\n",
              "      <td>94.574765</td>\n",
              "      <td>167.313747</td>\n",
              "      <td>870.428351</td>\n",
              "      <td>775.853586</td>\n",
              "      <td>1037.742099</td>\n",
              "      <td>943.167334</td>\n",
              "      <td>0.000000</td>\n",
              "    </tr>\n",
              "  </tbody>\n",
              "</table>\n",
              "</div>"
            ],
            "text/plain": [
              "   cliente        tec  ...  tempo_cliente_sistema  tempo_livre_operador\n",
              "0        1  11.434032  ...               0.416393             11.434032\n",
              "1        2  28.994134  ...              25.595479             28.577741\n",
              "2        3   2.905123  ...             195.040329              0.000000\n",
              "3        4   0.736133  ...             221.998058              0.000000\n",
              "4        5   6.952038  ...             733.246272              0.000000\n",
              "5        6  12.406643  ...             799.880310              0.000000\n",
              "6        7  10.506690  ...             796.493559              0.000000\n",
              "7        8  20.639973  ...             943.167334              0.000000\n",
              "\n",
              "[8 rows x 9 columns]"
            ]
          },
          "metadata": {
            "tags": []
          },
          "execution_count": 16
        }
      ]
    },
    {
      "cell_type": "code",
      "metadata": {
        "id": "YG4jbTymu5AR",
        "colab_type": "code",
        "outputId": "de12a160-c4a8-43c7-d3eb-57f09cb7324c",
        "colab": {
          "base_uri": "https://localhost:8080/",
          "height": 34
        }
      },
      "source": [
        ""
      ],
      "execution_count": 0,
      "outputs": [
        {
          "output_type": "stream",
          "text": [
            "Exponencial\n"
          ],
          "name": "stdout"
        }
      ]
    },
    {
      "cell_type": "code",
      "metadata": {
        "id": "sLVBDt3Ku80e",
        "colab_type": "code",
        "colab": {}
      },
      "source": [
        ""
      ],
      "execution_count": 0,
      "outputs": []
    }
  ]
}