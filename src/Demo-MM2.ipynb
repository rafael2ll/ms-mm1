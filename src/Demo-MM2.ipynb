{
 "cells": [
  {
   "cell_type": "code",
   "execution_count": 1,
   "metadata": {},
   "outputs": [],
   "source": [
    "from distribuicoes import Distribuicoes\n",
    "from variaveis import Variaveis\n",
    "from simulacao_mm2 import SimulacaoMM2, GeradorSimulacaoExponencialMM2\n",
    "from mm2 import MM2"
   ]
  },
  {
   "cell_type": "markdown",
   "metadata": {},
   "source": [
    "## Gerando uma simulação com distribuição Normal. "
   ]
  },
  {
   "cell_type": "code",
   "execution_count": 2,
   "metadata": {},
   "outputs": [
    {
     "data": {
      "text/html": [
       "<div>\n",
       "<style scoped>\n",
       "    .dataframe tbody tr th:only-of-type {\n",
       "        vertical-align: middle;\n",
       "    }\n",
       "\n",
       "    .dataframe tbody tr th {\n",
       "        vertical-align: top;\n",
       "    }\n",
       "\n",
       "    .dataframe thead th {\n",
       "        text-align: right;\n",
       "    }\n",
       "</style>\n",
       "<table border=\"1\" class=\"dataframe\">\n",
       "  <thead>\n",
       "    <tr style=\"text-align: right;\">\n",
       "      <th></th>\n",
       "      <th>cliente</th>\n",
       "      <th>tec</th>\n",
       "      <th>t_chegada_relogio</th>\n",
       "      <th>tes</th>\n",
       "      <th>ti_servico_relogio</th>\n",
       "      <th>t_fila</th>\n",
       "      <th>tf_servico_relogio_s1</th>\n",
       "      <th>tf_servico_relogio_s2</th>\n",
       "      <th>t_cliente_sistema</th>\n",
       "      <th>t_livre_operador_s1</th>\n",
       "      <th>t_livre_operador_s2</th>\n",
       "    </tr>\n",
       "  </thead>\n",
       "  <tbody>\n",
       "    <tr>\n",
       "      <th>0</th>\n",
       "      <td>1</td>\n",
       "      <td>0.420039</td>\n",
       "      <td>0.420039</td>\n",
       "      <td>0.065511</td>\n",
       "      <td>0.420039</td>\n",
       "      <td>0.000000</td>\n",
       "      <td>0.485549</td>\n",
       "      <td>0.000000</td>\n",
       "      <td>0.065511</td>\n",
       "      <td>0.420039</td>\n",
       "      <td>0.420039</td>\n",
       "    </tr>\n",
       "    <tr>\n",
       "      <th>1</th>\n",
       "      <td>2</td>\n",
       "      <td>0.368015</td>\n",
       "      <td>0.788054</td>\n",
       "      <td>0.626204</td>\n",
       "      <td>0.000000</td>\n",
       "      <td>0.000000</td>\n",
       "      <td>0.485549</td>\n",
       "      <td>1.414258</td>\n",
       "      <td>0.626204</td>\n",
       "      <td>0.302505</td>\n",
       "      <td>0.788054</td>\n",
       "    </tr>\n",
       "    <tr>\n",
       "      <th>2</th>\n",
       "      <td>3</td>\n",
       "      <td>0.547206</td>\n",
       "      <td>1.335260</td>\n",
       "      <td>0.250482</td>\n",
       "      <td>0.485549</td>\n",
       "      <td>0.000000</td>\n",
       "      <td>1.585742</td>\n",
       "      <td>1.414258</td>\n",
       "      <td>0.250482</td>\n",
       "      <td>0.849711</td>\n",
       "      <td>0.000000</td>\n",
       "    </tr>\n",
       "    <tr>\n",
       "      <th>3</th>\n",
       "      <td>4</td>\n",
       "      <td>0.818882</td>\n",
       "      <td>2.154143</td>\n",
       "      <td>0.100193</td>\n",
       "      <td>1.414258</td>\n",
       "      <td>0.000000</td>\n",
       "      <td>1.585742</td>\n",
       "      <td>2.254335</td>\n",
       "      <td>0.100193</td>\n",
       "      <td>0.568401</td>\n",
       "      <td>0.739884</td>\n",
       "    </tr>\n",
       "    <tr>\n",
       "      <th>4</th>\n",
       "      <td>5</td>\n",
       "      <td>0.327553</td>\n",
       "      <td>2.481696</td>\n",
       "      <td>0.840077</td>\n",
       "      <td>1.585742</td>\n",
       "      <td>0.000000</td>\n",
       "      <td>3.321773</td>\n",
       "      <td>2.254335</td>\n",
       "      <td>0.840077</td>\n",
       "      <td>0.895954</td>\n",
       "      <td>0.227360</td>\n",
       "    </tr>\n",
       "    <tr>\n",
       "      <th>5</th>\n",
       "      <td>6</td>\n",
       "      <td>0.131021</td>\n",
       "      <td>2.612717</td>\n",
       "      <td>0.736031</td>\n",
       "      <td>2.254335</td>\n",
       "      <td>0.000000</td>\n",
       "      <td>3.321773</td>\n",
       "      <td>3.348748</td>\n",
       "      <td>0.736031</td>\n",
       "      <td>0.000000</td>\n",
       "      <td>0.358382</td>\n",
       "    </tr>\n",
       "    <tr>\n",
       "      <th>6</th>\n",
       "      <td>7</td>\n",
       "      <td>0.252408</td>\n",
       "      <td>2.865125</td>\n",
       "      <td>0.094412</td>\n",
       "      <td>3.321773</td>\n",
       "      <td>0.456647</td>\n",
       "      <td>3.416185</td>\n",
       "      <td>3.348748</td>\n",
       "      <td>0.551060</td>\n",
       "      <td>0.000000</td>\n",
       "      <td>0.000000</td>\n",
       "    </tr>\n",
       "    <tr>\n",
       "      <th>7</th>\n",
       "      <td>8</td>\n",
       "      <td>0.500963</td>\n",
       "      <td>3.366089</td>\n",
       "      <td>0.637765</td>\n",
       "      <td>3.348748</td>\n",
       "      <td>0.000000</td>\n",
       "      <td>3.416185</td>\n",
       "      <td>4.003854</td>\n",
       "      <td>0.637765</td>\n",
       "      <td>0.000000</td>\n",
       "      <td>0.017341</td>\n",
       "    </tr>\n",
       "    <tr>\n",
       "      <th>8</th>\n",
       "      <td>9</td>\n",
       "      <td>0.200385</td>\n",
       "      <td>3.566474</td>\n",
       "      <td>0.655106</td>\n",
       "      <td>3.416185</td>\n",
       "      <td>0.000000</td>\n",
       "      <td>4.221580</td>\n",
       "      <td>4.003854</td>\n",
       "      <td>0.655106</td>\n",
       "      <td>0.150289</td>\n",
       "      <td>0.000000</td>\n",
       "    </tr>\n",
       "    <tr>\n",
       "      <th>9</th>\n",
       "      <td>10</td>\n",
       "      <td>0.680154</td>\n",
       "      <td>4.246628</td>\n",
       "      <td>0.262042</td>\n",
       "      <td>4.003854</td>\n",
       "      <td>0.000000</td>\n",
       "      <td>4.221580</td>\n",
       "      <td>4.508671</td>\n",
       "      <td>0.262042</td>\n",
       "      <td>0.025048</td>\n",
       "      <td>0.242775</td>\n",
       "    </tr>\n",
       "  </tbody>\n",
       "</table>\n",
       "</div>"
      ],
      "text/plain": [
       "   cliente       tec  t_chegada_relogio       tes  ti_servico_relogio  \\\n",
       "0        1  0.420039           0.420039  0.065511            0.420039   \n",
       "1        2  0.368015           0.788054  0.626204            0.000000   \n",
       "2        3  0.547206           1.335260  0.250482            0.485549   \n",
       "3        4  0.818882           2.154143  0.100193            1.414258   \n",
       "4        5  0.327553           2.481696  0.840077            1.585742   \n",
       "5        6  0.131021           2.612717  0.736031            2.254335   \n",
       "6        7  0.252408           2.865125  0.094412            3.321773   \n",
       "7        8  0.500963           3.366089  0.637765            3.348748   \n",
       "8        9  0.200385           3.566474  0.655106            3.416185   \n",
       "9       10  0.680154           4.246628  0.262042            4.003854   \n",
       "\n",
       "     t_fila  tf_servico_relogio_s1  tf_servico_relogio_s2  t_cliente_sistema  \\\n",
       "0  0.000000               0.485549               0.000000           0.065511   \n",
       "1  0.000000               0.485549               1.414258           0.626204   \n",
       "2  0.000000               1.585742               1.414258           0.250482   \n",
       "3  0.000000               1.585742               2.254335           0.100193   \n",
       "4  0.000000               3.321773               2.254335           0.840077   \n",
       "5  0.000000               3.321773               3.348748           0.736031   \n",
       "6  0.456647               3.416185               3.348748           0.551060   \n",
       "7  0.000000               3.416185               4.003854           0.637765   \n",
       "8  0.000000               4.221580               4.003854           0.655106   \n",
       "9  0.000000               4.221580               4.508671           0.262042   \n",
       "\n",
       "   t_livre_operador_s1  t_livre_operador_s2  \n",
       "0             0.420039             0.420039  \n",
       "1             0.302505             0.788054  \n",
       "2             0.849711             0.000000  \n",
       "3             0.568401             0.739884  \n",
       "4             0.895954             0.227360  \n",
       "5             0.000000             0.358382  \n",
       "6             0.000000             0.000000  \n",
       "7             0.000000             0.017341  \n",
       "8             0.150289             0.000000  \n",
       "9             0.025048             0.242775  "
      ]
     },
     "execution_count": 2,
     "metadata": {},
     "output_type": "execute_result"
    }
   ],
   "source": [
    "vars = Variaveis()\n",
    "vars.set_tes(Distribuicoes.NORMAL.value['func'])\n",
    "vars.set_tec(Distribuicoes.NORMAL.value['func'])\n",
    "s = SimulacaoMM2(variaveis=vars, clientes=10)\n",
    "s.simular_tudo()\n",
    "df = s.get_tabela()\n",
    "df"
   ]
  },
  {
   "cell_type": "code",
   "execution_count": 3,
   "metadata": {},
   "outputs": [
    {
     "data": {
      "image/png": "[encoded data removed]",
      "text/plain": [
       "<Figure size 432x288 with 1 Axes>"
      ]
     },
     "metadata": {
      "needs_background": "light"
     },
     "output_type": "display_data"
    },
    {
     "data": {
      "image/png": "[encoded data removed]",
      "text/plain": [
       "<Figure size 432x288 with 1 Axes>"
      ]
     },
     "metadata": {
      "needs_background": "light"
     },
     "output_type": "display_data"
    },
    {
     "data": {
      "image/png": "[encoded data removed]",
      "text/plain": [
       "<Figure size 432x288 with 1 Axes>"
      ]
     },
     "metadata": {},
     "output_type": "display_data"
    }
   ],
   "source": [
    "mm2 = MM2(df)\n",
    "mm2.calcularTudo()\n",
    "mm2.plot()"
   ]
  },
  {
   "cell_type": "markdown",
   "metadata": {},
   "source": [
    "## Gerando uma simulação com distribuição exponencial utilizando o gerador. "
   ]
  },
  {
   "cell_type": "code",
   "execution_count": 4,
   "metadata": {},
   "outputs": [
    {
     "data": {
      "text/html": [
       "<div>\n",
       "<style scoped>\n",
       "    .dataframe tbody tr th:only-of-type {\n",
       "        vertical-align: middle;\n",
       "    }\n",
       "\n",
       "    .dataframe tbody tr th {\n",
       "        vertical-align: top;\n",
       "    }\n",
       "\n",
       "    .dataframe thead th {\n",
       "        text-align: right;\n",
       "    }\n",
       "</style>\n",
       "<table border=\"1\" class=\"dataframe\">\n",
       "  <thead>\n",
       "    <tr style=\"text-align: right;\">\n",
       "      <th></th>\n",
       "      <th>cliente</th>\n",
       "      <th>tec</th>\n",
       "      <th>t_chegada_relogio</th>\n",
       "      <th>tes</th>\n",
       "      <th>ti_servico_relogio</th>\n",
       "      <th>t_fila</th>\n",
       "      <th>tf_servico_relogio_s1</th>\n",
       "      <th>tf_servico_relogio_s2</th>\n",
       "      <th>t_cliente_sistema</th>\n",
       "      <th>t_livre_operador_s1</th>\n",
       "      <th>t_livre_operador_s2</th>\n",
       "    </tr>\n",
       "  </thead>\n",
       "  <tbody>\n",
       "    <tr>\n",
       "      <th>0</th>\n",
       "      <td>1</td>\n",
       "      <td>0.183556</td>\n",
       "      <td>0.183556</td>\n",
       "      <td>1.475906</td>\n",
       "      <td>0.183556</td>\n",
       "      <td>0.000000</td>\n",
       "      <td>1.659462</td>\n",
       "      <td>0.000000</td>\n",
       "      <td>1.475906</td>\n",
       "      <td>0.183556</td>\n",
       "      <td>0.183556</td>\n",
       "    </tr>\n",
       "    <tr>\n",
       "      <th>1</th>\n",
       "      <td>2</td>\n",
       "      <td>0.217917</td>\n",
       "      <td>0.401473</td>\n",
       "      <td>0.101621</td>\n",
       "      <td>0.000000</td>\n",
       "      <td>0.000000</td>\n",
       "      <td>1.659462</td>\n",
       "      <td>0.503094</td>\n",
       "      <td>0.101621</td>\n",
       "      <td>0.000000</td>\n",
       "      <td>0.401473</td>\n",
       "    </tr>\n",
       "    <tr>\n",
       "      <th>2</th>\n",
       "      <td>3</td>\n",
       "      <td>0.126212</td>\n",
       "      <td>0.527685</td>\n",
       "      <td>0.346831</td>\n",
       "      <td>0.503094</td>\n",
       "      <td>0.000000</td>\n",
       "      <td>1.659462</td>\n",
       "      <td>0.874516</td>\n",
       "      <td>0.346831</td>\n",
       "      <td>0.000000</td>\n",
       "      <td>0.024591</td>\n",
       "    </tr>\n",
       "    <tr>\n",
       "      <th>3</th>\n",
       "      <td>4</td>\n",
       "      <td>0.058527</td>\n",
       "      <td>0.586212</td>\n",
       "      <td>0.947197</td>\n",
       "      <td>0.874516</td>\n",
       "      <td>0.288304</td>\n",
       "      <td>1.659462</td>\n",
       "      <td>1.821713</td>\n",
       "      <td>1.235502</td>\n",
       "      <td>0.000000</td>\n",
       "      <td>0.000000</td>\n",
       "    </tr>\n",
       "    <tr>\n",
       "      <th>4</th>\n",
       "      <td>5</td>\n",
       "      <td>0.251996</td>\n",
       "      <td>0.838208</td>\n",
       "      <td>0.054553</td>\n",
       "      <td>1.659462</td>\n",
       "      <td>0.821254</td>\n",
       "      <td>1.714015</td>\n",
       "      <td>1.821713</td>\n",
       "      <td>0.875808</td>\n",
       "      <td>0.000000</td>\n",
       "      <td>0.000000</td>\n",
       "    </tr>\n",
       "  </tbody>\n",
       "</table>\n",
       "</div>"
      ],
      "text/plain": [
       "   cliente       tec  t_chegada_relogio       tes  ti_servico_relogio  \\\n",
       "0        1  0.183556           0.183556  1.475906            0.183556   \n",
       "1        2  0.217917           0.401473  0.101621            0.000000   \n",
       "2        3  0.126212           0.527685  0.346831            0.503094   \n",
       "3        4  0.058527           0.586212  0.947197            0.874516   \n",
       "4        5  0.251996           0.838208  0.054553            1.659462   \n",
       "\n",
       "     t_fila  tf_servico_relogio_s1  tf_servico_relogio_s2  t_cliente_sistema  \\\n",
       "0  0.000000               1.659462               0.000000           1.475906   \n",
       "1  0.000000               1.659462               0.503094           0.101621   \n",
       "2  0.000000               1.659462               0.874516           0.346831   \n",
       "3  0.288304               1.659462               1.821713           1.235502   \n",
       "4  0.821254               1.714015               1.821713           0.875808   \n",
       "\n",
       "   t_livre_operador_s1  t_livre_operador_s2  \n",
       "0             0.183556             0.183556  \n",
       "1             0.000000             0.401473  \n",
       "2             0.000000             0.024591  \n",
       "3             0.000000             0.000000  \n",
       "4             0.000000             0.000000  "
      ]
     },
     "execution_count": 4,
     "metadata": {},
     "output_type": "execute_result"
    }
   ],
   "source": [
    "dfS = GeradorSimulacaoExponencialMM2()\n",
    "df = dfS.dfSimulacao\n",
    "df.head()"
   ]
  },
  {
   "cell_type": "markdown",
   "metadata": {},
   "source": [
    "## Gerando um modelo M/M/2 utilizando o DataFrame criado pelo gerador"
   ]
  },
  {
   "cell_type": "code",
   "execution_count": 5,
   "metadata": {},
   "outputs": [
    {
     "data": {
      "image/png": "[encoded data removed]",
      "text/plain": [
       "<Figure size 432x288 with 1 Axes>"
      ]
     },
     "metadata": {
      "needs_background": "light"
     },
     "output_type": "display_data"
    },
    {
     "data": {
      "image/png": "[encoded data removed]",
      "text/plain": [
       "<Figure size 432x288 with 1 Axes>"
      ]
     },
     "metadata": {
      "needs_background": "light"
     },
     "output_type": "display_data"
    },
    {
     "data": {
      "image/png": "[encoded data removed]",
      "text/plain": [
       "<Figure size 432x288 with 1 Axes>"
      ]
     },
     "metadata": {},
     "output_type": "display_data"
    }
   ],
   "source": [
    "mm2 = MM2(df)\n",
    "mm2.calcularTudo()\n",
    "mm2.plot()"
   ]
  },
  {
   "cell_type": "markdown",
   "metadata": {},
   "source": [
    "## Gerando um modelo M/M/2 utilizando outros valores"
   ]
  },
  {
   "cell_type": "code",
   "execution_count": 7,
   "metadata": {},
   "outputs": [
    {
     "data": {
      "image/png": "[encoded data removed]",
      "text/plain": [
       "<Figure size 432x288 with 1 Axes>"
      ]
     },
     "metadata": {
      "needs_background": "light"
     },
     "output_type": "display_data"
    },
    {
     "data": {
      "image/png": "[encoded data removed]",
      "text/plain": [
       "<Figure size 432x288 with 1 Axes>"
      ]
     },
     "metadata": {
      "needs_background": "light"
     },
     "output_type": "display_data"
    },
    {
     "data": {
      "image/png": "[encoded data removed]",
      "text/plain": [
       "<Figure size 432x288 with 1 Axes>"
      ]
     },
     "metadata": {},
     "output_type": "display_data"
    }
   ],
   "source": [
    "mm2 = MM2(chegada = 80, atendimento = 50)\n",
    "mm2.calcularTudo()\n",
    "mm2.plot()"
   ]
  },
  {
   "cell_type": "code",
   "execution_count": 8,
   "metadata": {},
   "outputs": [
    {
     "data": {
      "text/html": [
       "<div>\n",
       "<style scoped>\n",
       "    .dataframe tbody tr th:only-of-type {\n",
       "        vertical-align: middle;\n",
       "    }\n",
       "\n",
       "    .dataframe tbody tr th {\n",
       "        vertical-align: top;\n",
       "    }\n",
       "\n",
       "    .dataframe thead th {\n",
       "        text-align: right;\n",
       "    }\n",
       "</style>\n",
       "<table border=\"1\" class=\"dataframe\">\n",
       "  <thead>\n",
       "    <tr style=\"text-align: right;\">\n",
       "      <th></th>\n",
       "      <th>λ</th>\n",
       "      <th>μ</th>\n",
       "      <th>ρ</th>\n",
       "      <th>1 - ρ</th>\n",
       "      <th>W</th>\n",
       "      <th>Ws</th>\n",
       "      <th>Wq</th>\n",
       "      <th>L</th>\n",
       "      <th>Ls</th>\n",
       "      <th>Lq</th>\n",
       "    </tr>\n",
       "  </thead>\n",
       "  <tbody>\n",
       "    <tr>\n",
       "      <th>0</th>\n",
       "      <td>80</td>\n",
       "      <td>50</td>\n",
       "      <td>0.8</td>\n",
       "      <td>0.2</td>\n",
       "      <td>0.028621</td>\n",
       "      <td>0.02</td>\n",
       "      <td>0.008621</td>\n",
       "      <td>2.289655</td>\n",
       "      <td>1.6</td>\n",
       "      <td>0.689655</td>\n",
       "    </tr>\n",
       "  </tbody>\n",
       "</table>\n",
       "</div>"
      ],
      "text/plain": [
       "    λ   μ    ρ  1 - ρ         W    Ws        Wq         L   Ls        Lq\n",
       "0  80  50  0.8    0.2  0.028621  0.02  0.008621  2.289655  1.6  0.689655"
      ]
     },
     "execution_count": 8,
     "metadata": {},
     "output_type": "execute_result"
    }
   ],
   "source": [
    "mm2.gerarTabelaMM2()"
   ]
  }
 ],
 "metadata": {
  "kernelspec": {
   "display_name": "Python 3",
   "language": "python",
   "name": "python3"
  },
  "language_info": {
   "codemirror_mode": {
    "name": "ipython",
    "version": 3
   },
   "file_extension": ".py",
   "mimetype": "text/x-python",
   "name": "python",
   "nbconvert_exporter": "python",
   "pygments_lexer": "ipython3",
   "version": "3.7.3"
  }
 },
 "nbformat": 4,
 "nbformat_minor": 4
}
