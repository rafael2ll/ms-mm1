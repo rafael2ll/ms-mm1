{
 "cells": [
  {
   "cell_type": "code",
   "execution_count": 1,
   "metadata": {},
   "outputs": [],
   "source": [
    "from distribuicoes import Distribuicoes\n",
    "from variaveis import Variaveis\n",
    "from simulacao import Simulacao, GeradorSimulacaoExponencial\n",
    "from mm1 import MM1"
   ]
  },
  {
   "cell_type": "markdown",
   "metadata": {},
   "source": [
    "## Gerando uma simulação com distribuição Normal. "
   ]
  },
  {
   "cell_type": "code",
   "execution_count": 6,
   "metadata": {},
   "outputs": [
    {
     "data": {
      "text/html": [
       "<div>\n",
       "<style scoped>\n",
       "    .dataframe tbody tr th:only-of-type {\n",
       "        vertical-align: middle;\n",
       "    }\n",
       "\n",
       "    .dataframe tbody tr th {\n",
       "        vertical-align: top;\n",
       "    }\n",
       "\n",
       "    .dataframe thead th {\n",
       "        text-align: right;\n",
       "    }\n",
       "</style>\n",
       "<table border=\"1\" class=\"dataframe\">\n",
       "  <thead>\n",
       "    <tr style=\"text-align: right;\">\n",
       "      <th></th>\n",
       "      <th>cliente</th>\n",
       "      <th>tec</th>\n",
       "      <th>tempo_chegada_relogio</th>\n",
       "      <th>tes</th>\n",
       "      <th>tempo_inicio_servico_relogio</th>\n",
       "      <th>tempo_fila</th>\n",
       "      <th>tempo_final_servico_relogio</th>\n",
       "      <th>tempo_cliente_sistema</th>\n",
       "      <th>tempo_livre_operador</th>\n",
       "    </tr>\n",
       "  </thead>\n",
       "  <tbody>\n",
       "    <tr>\n",
       "      <th>0</th>\n",
       "      <td>1</td>\n",
       "      <td>0.928348</td>\n",
       "      <td>0.928348</td>\n",
       "      <td>0.108222</td>\n",
       "      <td>0.928348</td>\n",
       "      <td>0.0</td>\n",
       "      <td>1.036570</td>\n",
       "      <td>0.108222</td>\n",
       "      <td>0.928348</td>\n",
       "    </tr>\n",
       "    <tr>\n",
       "      <th>1</th>\n",
       "      <td>2</td>\n",
       "      <td>0.362907</td>\n",
       "      <td>1.291254</td>\n",
       "      <td>0.171815</td>\n",
       "      <td>1.291254</td>\n",
       "      <td>0.0</td>\n",
       "      <td>1.463069</td>\n",
       "      <td>0.171815</td>\n",
       "      <td>0.254685</td>\n",
       "    </tr>\n",
       "    <tr>\n",
       "      <th>2</th>\n",
       "      <td>3</td>\n",
       "      <td>0.987156</td>\n",
       "      <td>2.278410</td>\n",
       "      <td>0.066742</td>\n",
       "      <td>2.278410</td>\n",
       "      <td>0.0</td>\n",
       "      <td>2.345152</td>\n",
       "      <td>0.066742</td>\n",
       "      <td>0.815341</td>\n",
       "    </tr>\n",
       "    <tr>\n",
       "      <th>3</th>\n",
       "      <td>4</td>\n",
       "      <td>2.544673</td>\n",
       "      <td>4.823083</td>\n",
       "      <td>0.139944</td>\n",
       "      <td>4.823083</td>\n",
       "      <td>0.0</td>\n",
       "      <td>4.963027</td>\n",
       "      <td>0.139944</td>\n",
       "      <td>2.477931</td>\n",
       "    </tr>\n",
       "    <tr>\n",
       "      <th>4</th>\n",
       "      <td>5</td>\n",
       "      <td>6.437371</td>\n",
       "      <td>11.260453</td>\n",
       "      <td>0.437720</td>\n",
       "      <td>11.260453</td>\n",
       "      <td>0.0</td>\n",
       "      <td>11.698174</td>\n",
       "      <td>0.437720</td>\n",
       "      <td>6.297426</td>\n",
       "    </tr>\n",
       "  </tbody>\n",
       "</table>\n",
       "</div>"
      ],
      "text/plain": [
       "   cliente       tec  tempo_chegada_relogio       tes  \\\n",
       "0        1  0.928348               0.928348  0.108222   \n",
       "1        2  0.362907               1.291254  0.171815   \n",
       "2        3  0.987156               2.278410  0.066742   \n",
       "3        4  2.544673               4.823083  0.139944   \n",
       "4        5  6.437371              11.260453  0.437720   \n",
       "\n",
       "   tempo_inicio_servico_relogio  tempo_fila  tempo_final_servico_relogio  \\\n",
       "0                      0.928348         0.0                     1.036570   \n",
       "1                      1.291254         0.0                     1.463069   \n",
       "2                      2.278410         0.0                     2.345152   \n",
       "3                      4.823083         0.0                     4.963027   \n",
       "4                     11.260453         0.0                    11.698174   \n",
       "\n",
       "   tempo_cliente_sistema  tempo_livre_operador  \n",
       "0               0.108222              0.928348  \n",
       "1               0.171815              0.254685  \n",
       "2               0.066742              0.815341  \n",
       "3               0.139944              2.477931  \n",
       "4               0.437720              6.297426  "
      ]
     },
     "execution_count": 6,
     "metadata": {},
     "output_type": "execute_result"
    }
   ],
   "source": [
    "vars = Variaveis()\n",
    "vars.set_tes(Distribuicoes.EXPONENCIAL.value['func'])\n",
    "vars.set_tec(Distribuicoes.EXPONENCIAL.value['func'])\n",
    "s = Simulacao(variaveis=vars, tempo_limite=1000)\n",
    "s.simular_tudo()\n",
    "df = s.get_tabela()\n",
    "df.head()"
   ]
  },
  {
   "cell_type": "markdown",
   "metadata": {},
   "source": [
    "## Gerando uma simulação com distribuição exponencial utilizando o gerador. "
   ]
  },
  {
   "cell_type": "code",
   "execution_count": 3,
   "metadata": {},
   "outputs": [
    {
     "data": {
      "text/html": [
       "<div>\n",
       "<style scoped>\n",
       "    .dataframe tbody tr th:only-of-type {\n",
       "        vertical-align: middle;\n",
       "    }\n",
       "\n",
       "    .dataframe tbody tr th {\n",
       "        vertical-align: top;\n",
       "    }\n",
       "\n",
       "    .dataframe thead th {\n",
       "        text-align: right;\n",
       "    }\n",
       "</style>\n",
       "<table border=\"1\" class=\"dataframe\">\n",
       "  <thead>\n",
       "    <tr style=\"text-align: right;\">\n",
       "      <th></th>\n",
       "      <th>cliente</th>\n",
       "      <th>tec</th>\n",
       "      <th>tempo_chegada_relogio</th>\n",
       "      <th>tes</th>\n",
       "      <th>tempo_inicio_servico_relogio</th>\n",
       "      <th>tempo_fila</th>\n",
       "      <th>tempo_final_servico_relogio</th>\n",
       "      <th>tempo_cliente_sistema</th>\n",
       "      <th>tempo_livre_operador</th>\n",
       "    </tr>\n",
       "  </thead>\n",
       "  <tbody>\n",
       "    <tr>\n",
       "      <th>0</th>\n",
       "      <td>1</td>\n",
       "      <td>0.310256</td>\n",
       "      <td>0.310256</td>\n",
       "      <td>0.195270</td>\n",
       "      <td>0.310256</td>\n",
       "      <td>0.000000</td>\n",
       "      <td>0.505526</td>\n",
       "      <td>0.195270</td>\n",
       "      <td>0.310256</td>\n",
       "    </tr>\n",
       "    <tr>\n",
       "      <th>1</th>\n",
       "      <td>2</td>\n",
       "      <td>0.269273</td>\n",
       "      <td>0.579528</td>\n",
       "      <td>0.223829</td>\n",
       "      <td>0.579528</td>\n",
       "      <td>0.000000</td>\n",
       "      <td>0.803358</td>\n",
       "      <td>0.223829</td>\n",
       "      <td>0.074002</td>\n",
       "    </tr>\n",
       "    <tr>\n",
       "      <th>2</th>\n",
       "      <td>3</td>\n",
       "      <td>0.134677</td>\n",
       "      <td>0.714206</td>\n",
       "      <td>0.034667</td>\n",
       "      <td>0.803358</td>\n",
       "      <td>0.089152</td>\n",
       "      <td>0.838024</td>\n",
       "      <td>0.123819</td>\n",
       "      <td>0.000000</td>\n",
       "    </tr>\n",
       "    <tr>\n",
       "      <th>3</th>\n",
       "      <td>4</td>\n",
       "      <td>10.329919</td>\n",
       "      <td>11.044125</td>\n",
       "      <td>0.210859</td>\n",
       "      <td>11.044125</td>\n",
       "      <td>0.000000</td>\n",
       "      <td>11.254984</td>\n",
       "      <td>0.210859</td>\n",
       "      <td>10.206101</td>\n",
       "    </tr>\n",
       "    <tr>\n",
       "      <th>4</th>\n",
       "      <td>5</td>\n",
       "      <td>25.899968</td>\n",
       "      <td>36.944093</td>\n",
       "      <td>0.124865</td>\n",
       "      <td>36.944093</td>\n",
       "      <td>0.000000</td>\n",
       "      <td>37.068958</td>\n",
       "      <td>0.124865</td>\n",
       "      <td>25.689109</td>\n",
       "    </tr>\n",
       "  </tbody>\n",
       "</table>\n",
       "</div>"
      ],
      "text/plain": [
       "   cliente        tec  tempo_chegada_relogio       tes  \\\n",
       "0        1   0.310256               0.310256  0.195270   \n",
       "1        2   0.269273               0.579528  0.223829   \n",
       "2        3   0.134677               0.714206  0.034667   \n",
       "3        4  10.329919              11.044125  0.210859   \n",
       "4        5  25.899968              36.944093  0.124865   \n",
       "\n",
       "   tempo_inicio_servico_relogio  tempo_fila  tempo_final_servico_relogio  \\\n",
       "0                      0.310256    0.000000                     0.505526   \n",
       "1                      0.579528    0.000000                     0.803358   \n",
       "2                      0.803358    0.089152                     0.838024   \n",
       "3                     11.044125    0.000000                    11.254984   \n",
       "4                     36.944093    0.000000                    37.068958   \n",
       "\n",
       "   tempo_cliente_sistema  tempo_livre_operador  \n",
       "0               0.195270              0.310256  \n",
       "1               0.223829              0.074002  \n",
       "2               0.123819              0.000000  \n",
       "3               0.210859             10.206101  \n",
       "4               0.124865             25.689109  "
      ]
     },
     "execution_count": 3,
     "metadata": {},
     "output_type": "execute_result"
    }
   ],
   "source": [
    "dfS = GeradorSimulacaoExponencial()\n",
    "df = dfS.dfSimulacao\n",
    "df.head()"
   ]
  },
  {
   "cell_type": "markdown",
   "metadata": {},
   "source": [
    "## Gerando um modelo M/M/1 utilizando o DataFrame criado pelo gerador"
   ]
  },
  {
   "cell_type": "code",
   "execution_count": 4,
   "metadata": {},
   "outputs": [
    {
     "data": {
      "image/png": "[encoded data removed]",
      "text/plain": [
       "<Figure size 432x288 with 1 Axes>"
      ]
     },
     "metadata": {
      "needs_background": "light"
     },
     "output_type": "display_data"
    },
    {
     "data": {
      "image/png": "[encoded data removed]",
      "text/plain": [
       "<Figure size 432x288 with 1 Axes>"
      ]
     },
     "metadata": {
      "needs_background": "light"
     },
     "output_type": "display_data"
    },
    {
     "data": {
      "image/png": "[encoded data removed]",
      "text/plain": [
       "<Figure size 432x288 with 1 Axes>"
      ]
     },
     "metadata": {},
     "output_type": "display_data"
    }
   ],
   "source": [
    "mm1 = MM1(df)\n",
    "mm1.calcularTudo()\n",
    "gerais = mm1.plotMetricasGerais()\n",
    "cliente = mm1.plotMetricasCliente()\n",
    "tempo = mm1.plotMetricasTempo()"
   ]
  },
  {
   "cell_type": "markdown",
   "metadata": {},
   "source": [
    "## Gerando um modelo M/M/1 utilizando outros valores"
   ]
  },
  {
   "cell_type": "code",
   "execution_count": 5,
   "metadata": {},
   "outputs": [
    {
     "data": {
      "image/png": "[encoded data removed]",
      "text/plain": [
       "<Figure size 432x288 with 1 Axes>"
      ]
     },
     "metadata": {
      "needs_background": "light"
     },
     "output_type": "display_data"
    },
    {
     "data": {
      "image/png": "[encoded data removed]",
      "text/plain": [
       "<Figure size 432x288 with 1 Axes>"
      ]
     },
     "metadata": {
      "needs_background": "light"
     },
     "output_type": "display_data"
    },
    {
     "data": {
      "image/png": "[encoded data removed]",
      "text/plain": [
       "<Figure size 432x288 with 1 Axes>"
      ]
     },
     "metadata": {},
     "output_type": "display_data"
    }
   ],
   "source": [
    "mm1 = MM1(chegada = 10, atendimento = 15)\n",
    "mm1.calcularTudo()\n",
    "gerais = mm1.plotMetricasGerais()\n",
    "cliente = mm1.plotMetricasCliente()\n",
    "tempo = mm1.plotMetricasTempo()"
   ]
  }
 ],
 "metadata": {
  "kernelspec": {
   "display_name": "Python 3",
   "language": "python",
   "name": "python3"
  },
  "language_info": {
   "codemirror_mode": {
    "name": "ipython",
    "version": 3
   },
   "file_extension": ".py",
   "mimetype": "text/x-python",
   "name": "python",
   "nbconvert_exporter": "python",
   "pygments_lexer": "ipython3",
   "version": "3.7.3"
  }
 },
 "nbformat": 4,
 "nbformat_minor": 4
}
