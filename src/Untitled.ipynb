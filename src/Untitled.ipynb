{
 "cells": [
  {
   "cell_type": "code",
   "execution_count": 257,
   "metadata": {},
   "outputs": [],
   "source": [
    "import numpy as np\n",
    "from enum import Enum\n",
    "import math\n",
    "from time import time\n",
    "import random"
   ]
  },
  {
   "cell_type": "code",
   "execution_count": 541,
   "metadata": {},
   "outputs": [],
   "source": [
    "class Seed:\n",
    "    def __init__(self):\n",
    "        # Gera um \"s\" aleatório usando o tempo do sistema\n",
    "        s = list(str((int(time() * 10**5))))\n",
    "        random.shuffle(s)\n",
    "        s = int(''.join(s))\n",
    "        self.seed = (2*s) - 1\n",
    "        \n",
    "    def getSeed(self):\n",
    "        return self.seed\n",
    "\n",
    "    def setSeed(self, ns):\n",
    "        self.seed = ns\n",
    "\n",
    "class GeradorVariavelAleatoria:\n",
    "    def __init__(self,  seed: Seed, a=143.0, m=519.0):\n",
    "        self.a = a\n",
    "        self.m = m\n",
    "        self.seed=seed\n",
    "\n",
    "    def gerar(self):\n",
    "        self.seed.setSeed((self.a * self.seed.getSeed()) % self.m)\n",
    "        return self.seed.getSeed()/self.m\n",
    "\n",
    "class DistribuicaoExponencial:\n",
    "    def __init__(self, LAMBDA):\n",
    "        self.LAMBDA = LAMBDA\n",
    "        self.seed = Seed()\n",
    "        self.gerador_va = GeradorVariavelAleatoria(self.seed)\n",
    "    \n",
    "    def gerar(self):\n",
    "        return -self.LAMBDA/(math.log(1 - self.gerador_va.gerar()))\n",
    "\n",
    "class DistribuicaoNormal:\n",
    "    def __init__(self):\n",
    "        self.seed = Seed()\n",
    "        self.a = 0\n",
    "        self.b = 1\n",
    "        self.gerador_va = GeradorVariavelAleatoria(self.seed)\n",
    "    \n",
    "    def gerar(self):\n",
    "        return self.a + (self.b-self.a)* self.gerador_va.gerar()"
   ]
  },
  {
   "cell_type": "code",
   "execution_count": 540,
   "metadata": {},
   "outputs": [
    {
     "data": {
      "text/plain": [
       "250.2669286700895"
      ]
     },
     "execution_count": 540,
     "metadata": {},
     "output_type": "execute_result"
    }
   ],
   "source": [
    "DistribuicaoExponencial(80).gerar()"
   ]
  },
  {
   "cell_type": "code",
   "execution_count": 531,
   "metadata": {},
   "outputs": [
    {
     "data": {
      "text/plain": [
       "104.33877245992237"
      ]
     },
     "execution_count": 531,
     "metadata": {},
     "output_type": "execute_result"
    }
   ],
   "source": [
    "np.random.exponential(80)"
   ]
  }
 ],
 "metadata": {
  "kernelspec": {
   "display_name": "Python 3",
   "language": "python",
   "name": "python3"
  },
  "language_info": {
   "codemirror_mode": {
    "name": "ipython",
    "version": 3
   },
   "file_extension": ".py",
   "mimetype": "text/x-python",
   "name": "python",
   "nbconvert_exporter": "python",
   "pygments_lexer": "ipython3",
   "version": "3.7.3"
  }
 },
 "nbformat": 4,
 "nbformat_minor": 2
}
